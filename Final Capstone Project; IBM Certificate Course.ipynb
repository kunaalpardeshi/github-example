{
    "cells": [
        {
            "cell_type": "markdown",
            "metadata": {
                "collapsed": true
            },
            "source": "# Project Title : Analysing key cities to set up a vegetable/fruit distribution centre that will cater mainly to restaurants\n"
        },
        {
            "cell_type": "markdown",
            "metadata": {},
            "source": "## Introduction :\n   \n   \n   A big corporate house that is well established as multibrand apparel retailer, is interested in diversifying its business. Their business has currently been hit by the pandemic and they are eager to diversify their business. They desire to carry out retailing of an essential commodity and have narrowed down on fruits and vegetables. \n   \n   They have approached us for future market prospects, strategy and scope. They have a two year horizon(maximum) to start their operations. \n   \n   One key point highlighted by our team was that setting up retail sites in cities will be expensive and highly unpredicatble. There will be lot of additional expenditure on advertising the brand to consumers. Hence it is prudent to focus on business consumers. Rather than sell vegetables and fruits to the final customer, there seemed to be more viability in selling vegetbales and fruits to the following set of customers.\n   \n   <ol>\n     <li>Restaurants</li>\n     <li>Malls - Retail Stores or supermarkers </li>\n     <li>Offices - Fruits for employees</li>\n     \n</ol>\n   \n   Hence it is advisable that the client opens a warehouse centre in one of the cities that were considered for analysis. The client will cater the fruit and vegetable demand for all the above businesses.\n  \n   \n   \n "
        },
        {
            "cell_type": "markdown",
            "metadata": {},
            "source": "## Data and Methodology:\n\n   We will use wikipedia to get location data for neighborhoods around cities. We will clean this data and then combine this data with that from Foresquare. The foresquare data will be a collection of venues within neighborhoods. The venue categories will be tabulated and we will carry out unsupervised machine learning on the data (DBSCAN and Kmeans). Certain types of restaurants will be given additional weightage based on their cuisines. This is because some cuisines require higher quanity of vegetables and fruits than other cuisines.\n      \n   The following cities will be considered for analysis;\n         <ol>\n     <li>New York</li>\n     <li>Paris </li>\n     <li>Toronto</li>\n     </ol>\n      "
        },
        {
            "cell_type": "code",
            "execution_count": null,
            "metadata": {},
            "outputs": [],
            "source": ""
        }
    ],
    "metadata": {
        "kernelspec": {
            "display_name": "Python 3.6",
            "language": "python",
            "name": "python3"
        },
        "language_info": {
            "codemirror_mode": {
                "name": "ipython",
                "version": 3
            },
            "file_extension": ".py",
            "mimetype": "text/x-python",
            "name": "python",
            "nbconvert_exporter": "python",
            "pygments_lexer": "ipython3",
            "version": "3.6.9"
        }
    },
    "nbformat": 4,
    "nbformat_minor": 1
}